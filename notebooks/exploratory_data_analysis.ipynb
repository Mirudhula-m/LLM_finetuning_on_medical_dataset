{
 "cells": [
  {
   "cell_type": "code",
   "execution_count": 8,
   "metadata": {},
   "outputs": [],
   "source": [
    "import pandas as pd\n",
    "from datasets import load_dataset\n",
    "from sklearn.feature_extraction.text import TfidfVectorizer\n",
    "from sklearn.decomposition import TruncatedSVD\n",
    "from sklearn.pipeline import make_pipeline"
   ]
  },
  {
   "attachments": {},
   "cell_type": "markdown",
   "metadata": {},
   "source": [
    "Load Dataset from Hugging Face"
   ]
  },
  {
   "cell_type": "code",
   "execution_count": 3,
   "metadata": {},
   "outputs": [
    {
     "data": {
      "text/plain": [
       "Dataset({\n",
       "    features: ['Prompt', 'Completion'],\n",
       "    num_rows: 1412\n",
       "})"
      ]
     },
     "execution_count": 3,
     "metadata": {},
     "output_type": "execute_result"
    }
   ],
   "source": [
    "dataset = load_dataset(\"BI55/MedText\", split = 'train')\n",
    "dataset"
   ]
  },
  {
   "cell_type": "code",
   "execution_count": 4,
   "metadata": {},
   "outputs": [],
   "source": [
    "def format_text(text,line_length= 15):\n",
    "  print_word = ''\n",
    "  for i,word in enumerate(text.split(' ')):\n",
    "    print_word+=word + ' '\n",
    "    i += 1\n",
    "    print_word =print_word + '\\n' if i%line_length == 0 else print_word\n",
    "\n",
    "  return print_word"
   ]
  },
  {
   "cell_type": "code",
   "execution_count": 5,
   "metadata": {},
   "outputs": [
    {
     "name": "stdout",
     "output_type": "stream",
     "text": [
      "Prompt\n",
      "\n",
      "A 50-year-old male presents with a history of recurrent kidney stones and osteopenia. He has \n",
      "been taking high-dose vitamin D supplements due to a previous diagnosis of vitamin D deficiency. \n",
      "Laboratory results reveal hypercalcemia and hypercalciuria. What is the likely diagnosis, and what is the \n",
      "treatment? \n",
      "\n",
      "Completition\n",
      "\n",
      "This patient's history of recurrent kidney stones, osteopenia, and high-dose vitamin D supplementation, along with \n",
      "laboratory findings of hypercalcemia and hypercalciuria, suggest the possibility of vitamin D toxicity. Excessive intake \n",
      "of vitamin D can cause increased absorption of calcium from the gut, leading to hypercalcemia \n",
      "and hypercalciuria, which can result in kidney stones and bone loss. Treatment would involve stopping \n",
      "the vitamin D supplementation and potentially providing intravenous fluids and loop diuretics to promote the \n",
      "excretion of calcium. \n"
     ]
    }
   ],
   "source": [
    "print('Prompt\\n')\n",
    "print(format_text(dataset['Prompt'][0]))\n",
    "print('\\nCompletition\\n')\n",
    "print(format_text(dataset['Completion'][0]))"
   ]
  },
  {
   "attachments": {},
   "cell_type": "markdown",
   "metadata": {},
   "source": [
    "Topic Modeling using Latent Semantic Analysis (LSA)"
   ]
  },
  {
   "cell_type": "code",
   "execution_count": 9,
   "metadata": {},
   "outputs": [
    {
     "data": {
      "text/plain": [
       "1412"
      ]
     },
     "execution_count": 9,
     "metadata": {},
     "output_type": "execute_result"
    }
   ],
   "source": [
    "# Combine prompt and prompt columns into a single text field\n",
    "texts = [p + \" \" + c for p, c in zip(dataset['Prompt'], dataset['Completion'])]\n",
    "len(texts)"
   ]
  },
  {
   "cell_type": "code",
   "execution_count": 10,
   "metadata": {},
   "outputs": [],
   "source": [
    "# Create a pipeline for LSA\n",
    "lsa_pipeline = make_pipeline(\n",
    "    TfidfVectorizer(stop_words='english'),\n",
    "    TruncatedSVD(n_components=5, random_state=42)\n",
    ")\n",
    "\n",
    "# Fit and transform the data\n",
    "lsa_output = lsa_pipeline.fit_transform(texts)"
   ]
  },
  {
   "cell_type": "code",
   "execution_count": 11,
   "metadata": {},
   "outputs": [],
   "source": [
    "def get_top_terms(model, feature_names, n_top_words):\n",
    "    topics = []\n",
    "    for topic_idx, topic in enumerate(model.components_):\n",
    "        top_terms = [feature_names[i] for i in topic.argsort()[:-n_top_words - 1:-1]]\n",
    "        topics.append(top_terms)\n",
    "    return topics\n",
    "\n",
    "vectorizer = lsa_pipeline.named_steps['tfidfvectorizer']\n",
    "svd_model = lsa_pipeline.named_steps['truncatedsvd']\n",
    "\n",
    "feature_names = vectorizer.get_feature_names_out()\n",
    "topics = get_top_terms(svd_model, feature_names, 10)"
   ]
  },
  {
   "cell_type": "code",
   "execution_count": 12,
   "metadata": {},
   "outputs": [
    {
     "name": "stdout",
     "output_type": "stream",
     "text": [
      "Topic 1: pain, symptoms, steps, patient, diagnosis\n",
      "Topic 2: iron, anemia, thyroid, fatigue, deficiency\n",
      "Topic 3: chest, blood, heart, ct, liver\n",
      "Topic 4: pain, fracture, bowel, weight, knee\n",
      "Topic 5: iron, anemia, deficiency, infection, count\n"
     ]
    }
   ],
   "source": [
    "for i, topic in enumerate(topics):\n",
    "    print(f\"Topic {i + 1}: {', '.join(topic[:5])}\")"
   ]
  }
 ],
 "metadata": {
  "kernelspec": {
   "display_name": "llm",
   "language": "python",
   "name": "python3"
  },
  "language_info": {
   "codemirror_mode": {
    "name": "ipython",
    "version": 3
   },
   "file_extension": ".py",
   "mimetype": "text/x-python",
   "name": "python",
   "nbconvert_exporter": "python",
   "pygments_lexer": "ipython3",
   "version": "3.10.16"
  },
  "orig_nbformat": 4
 },
 "nbformat": 4,
 "nbformat_minor": 2
}
